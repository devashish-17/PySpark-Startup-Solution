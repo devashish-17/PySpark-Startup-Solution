{
 "cells": [
  {
   "cell_type": "code",
   "execution_count": 22,
   "id": "c748ff1c-79e0-443d-bc1f-80ca360be06a",
   "metadata": {},
   "outputs": [],
   "source": [
    "from pyspark.sql import SparkSession\n",
    "from pyspark.sql.functions import col,desc,split, when,count"
   ]
  },
  {
   "cell_type": "code",
   "execution_count": 23,
   "id": "c6dc21fd-146b-4741-8ca1-9ed629b93bab",
   "metadata": {},
   "outputs": [],
   "source": [
    "# create a Spark session\n",
    "spark = SparkSession.builder.appName('Start up assignment solution').getOrCreate()"
   ]
  },
  {
   "cell_type": "code",
   "execution_count": 24,
   "id": "d41c0e28-3b11-4d5e-9862-60d011f1e83a",
   "metadata": {},
   "outputs": [
    {
     "name": "stdout",
     "output_type": "stream",
     "text": [
      "+--------------------+--------------------+--------------------+--------------------+\n",
      "|   Incubation_Center|     Name_of_startup| Location of company|              Sector|\n",
      "+--------------------+--------------------+--------------------+--------------------+\n",
      "|      ABES Ghaziabad|            Suryansh|           New Delhi|              EdTech|\n",
      "|AIC Banasthali Vi...|Thinkpods Educati...| Satara, Maharashtra|             Ed Tech|\n",
      "|AIC Banasthali Vi...|Inventiway Soluti...| Mumbai, Maharashtra|             HR Tech|\n",
      "|AIC Banasthali Vi...|C2M Internet Indi...|Lucknow, Uttar Pr...|         Retail Tech|\n",
      "|AIC Pinnacle Entr...|            Wastinno|   Pune, Maharashtra|         agriculture|\n",
      "|AIC Pinnacle Entr...|Diabetico - Rise ...|   Pune, Maharashtra|          Healthcare|\n",
      "|AIC Pinnacle Entr...|  3DGuru Innovations|   Pune, Maharashtra|             EduTech|\n",
      "|AIC Pinnacle Entr...|     Gupte Education|   Pune, Maharashtra|    Ed Tech, Defence|\n",
      "|AIC Pinnacle Entr...|Eldew Digital Pvt...|   Pune, Maharashtra|  IT, Virtual Events|\n",
      "|AIC Pinnacle Entr...|Secumatic Technol...|   Pune, Maharashtra|             Defense|\n",
      "|AIC Pinnacle Entr...|Catalystgreen Pri...|   Pune, Maharashtra|          E-Mobility|\n",
      "|AIC Pinnacle Entr...|Dynateq Consultin...|   Pune, Maharashtra|Industril Automation|\n",
      "|           AIC@36Inc|               TECHB|              Bhilai|3d printer and cn...|\n",
      "|           AIC@36Inc|Acculegal Service...|              Raipur|Finance, Legal , ...|\n",
      "|           AIC@36Inc|Bastar Se Bazar T...|        Uttar Bastar|       Agri-business|\n",
      "|           AIC@36Inc|          Coshal Art|              Raipur|          Handicraft|\n",
      "|           AIC@36Inc|           Jivandeep|              Raipur|          Healthcare|\n",
      "|           AIC@36Inc|  Binomial Analytics|              Raipur|IT and Technology...|\n",
      "|           AIC@36Inc|              Rawfit|              Raipur|Heathcare & Wellness|\n",
      "|           AIC@36Inc|           WedNicely|              Raipur|eInvitations & We...|\n",
      "+--------------------+--------------------+--------------------+--------------------+\n",
      "only showing top 20 rows\n",
      "\n"
     ]
    }
   ],
   "source": [
    "# load the data \n",
    "filepath=\"Listofstartups.csv\"\n",
    "\n",
    "df = spark.read.csv(filepath, header=True)\n",
    "\n",
    "# see the dataframe\n",
    "df.show()"
   ]
  },
  {
   "cell_type": "code",
   "execution_count": 25,
   "id": "2f5dfba7-1575-4fcb-b14d-91b2f4960f5b",
   "metadata": {},
   "outputs": [
    {
     "name": "stdout",
     "output_type": "stream",
     "text": [
      "+----------+-----+\n",
      "|    Sector|count|\n",
      "+----------+-----+\n",
      "|Healthcare|   34|\n",
      "+----------+-----+\n",
      "only showing top 1 row\n",
      "\n"
     ]
    }
   ],
   "source": [
    "# 1. Find which sector has the most startups\n",
    "df_most_startups = df.groupby('Sector').count().orderBy(desc('count'))\n",
    "df_most_startups.show(1)"
   ]
  },
  {
   "cell_type": "code",
   "execution_count": 26,
   "id": "ecc4f84c-9cb0-4846-9247-7db1bbfdd536",
   "metadata": {},
   "outputs": [
    {
     "name": "stdout",
     "output_type": "stream",
     "text": [
      "+--------------------+--------------------+--------------------+--------------------+--------------+------------+\n",
      "|   Incubation_Center|     Name_of_startup| Location of company|              Sector|         state|        city|\n",
      "+--------------------+--------------------+--------------------+--------------------+--------------+------------+\n",
      "|      ABES Ghaziabad|            Suryansh|           New Delhi|              EdTech|          NULL|   New Delhi|\n",
      "|AIC Banasthali Vi...|Thinkpods Educati...| Satara, Maharashtra|             Ed Tech|   Maharashtra|      Satara|\n",
      "|AIC Banasthali Vi...|Inventiway Soluti...| Mumbai, Maharashtra|             HR Tech|   Maharashtra|      Mumbai|\n",
      "|AIC Banasthali Vi...|C2M Internet Indi...|Lucknow, Uttar Pr...|         Retail Tech| Uttar Pradesh|     Lucknow|\n",
      "|AIC Pinnacle Entr...|            Wastinno|   Pune, Maharashtra|         agriculture|   Maharashtra|        Pune|\n",
      "|AIC Pinnacle Entr...|Diabetico - Rise ...|   Pune, Maharashtra|          Healthcare|   Maharashtra|        Pune|\n",
      "|AIC Pinnacle Entr...|  3DGuru Innovations|   Pune, Maharashtra|             EduTech|   Maharashtra|        Pune|\n",
      "|AIC Pinnacle Entr...|     Gupte Education|   Pune, Maharashtra|    Ed Tech, Defence|   Maharashtra|        Pune|\n",
      "|AIC Pinnacle Entr...|Eldew Digital Pvt...|   Pune, Maharashtra|  IT, Virtual Events|   Maharashtra|        Pune|\n",
      "|AIC Pinnacle Entr...|Secumatic Technol...|   Pune, Maharashtra|             Defense|   Maharashtra|        Pune|\n",
      "|AIC Pinnacle Entr...|Catalystgreen Pri...|   Pune, Maharashtra|          E-Mobility|   Maharashtra|        Pune|\n",
      "|AIC Pinnacle Entr...|Dynateq Consultin...|   Pune, Maharashtra|Industril Automation|   Maharashtra|        Pune|\n",
      "|           AIC@36Inc|               TECHB|              Bhilai|3d printer and cn...|          NULL|      Bhilai|\n",
      "|           AIC@36Inc|Acculegal Service...|              Raipur|Finance, Legal , ...|          NULL|      Raipur|\n",
      "|           AIC@36Inc|Bastar Se Bazar T...|        Uttar Bastar|       Agri-business|          NULL|Uttar Bastar|\n",
      "|           AIC@36Inc|          Coshal Art|              Raipur|          Handicraft|          NULL|      Raipur|\n",
      "|           AIC@36Inc|           Jivandeep|              Raipur|          Healthcare|          NULL|      Raipur|\n",
      "|           AIC@36Inc|  Binomial Analytics|              Raipur|IT and Technology...|          NULL|      Raipur|\n",
      "|           AIC@36Inc|              Rawfit|              Raipur|Heathcare & Wellness|          NULL|      Raipur|\n",
      "|           AIC@36Inc|           WedNicely|              Raipur|eInvitations & We...|          NULL|      Raipur|\n",
      "+--------------------+--------------------+--------------------+--------------------+--------------+------------+\n",
      "only showing top 20 rows\n",
      "\n"
     ]
    }
   ],
   "source": [
    "# 2. Split the Location of company into 2 columns, state and city . If state is not present then keep it as null\n",
    "df = df.withColumn('splitted', split(col('Location of company'), ','))\n",
    "\n",
    "# Now 'splitted' is an array column, you can use other functions to get 'state' and 'city'\n",
    "df = df.withColumn('state', col('splitted')[1])\n",
    "df = df.withColumn('city', col('splitted')[0])\n",
    "\n",
    "# Drop the 'splitted' column as it's no longer needed\n",
    "df = df.drop('splitted')\n",
    "df.show()"
   ]
  },
  {
   "cell_type": "code",
   "execution_count": 27,
   "id": "67f703a2-b541-40cc-b4ea-d7525c6ab585",
   "metadata": {},
   "outputs": [
    {
     "name": "stdout",
     "output_type": "stream",
     "text": [
      "+--------------------+--------------------+--------------------+--------------------+--------------+------------+\n",
      "|   Incubation_Center|     Name_of_startup| Location of company|              Sector|         state|        city|\n",
      "+--------------------+--------------------+--------------------+--------------------+--------------+------------+\n",
      "|      ABES Ghaziabad|            Suryansh|           New Delhi|              EdTech|          NULL|   New Delhi|\n",
      "|AIC Banasthali Vi...|Thinkpods Educati...| Satara, Maharashtra|             Ed Tech|   Maharashtra|      Satara|\n",
      "|AIC Banasthali Vi...|Inventiway Soluti...| Mumbai, Maharashtra|             HR Tech|   Maharashtra|      Mumbai|\n",
      "|AIC Banasthali Vi...|C2M Internet Indi...|Lucknow, Uttar Pr...|         Retail Tech| Uttar Pradesh|     Lucknow|\n",
      "|AIC Pinnacle Entr...|            Wastinno|   Pune, Maharashtra|         agriculture|   Maharashtra|        Pune|\n",
      "|AIC Pinnacle Entr...|Diabetico - Rise ...|   Pune, Maharashtra|          Healthcare|   Maharashtra|        Pune|\n",
      "|AIC Pinnacle Entr...|  3DGuru Innovations|   Pune, Maharashtra|             EduTech|   Maharashtra|        Pune|\n",
      "|AIC Pinnacle Entr...|     Gupte Education|   Pune, Maharashtra|    Ed Tech, Defence|   Maharashtra|        Pune|\n",
      "|AIC Pinnacle Entr...|Eldew Digital Pvt...|   Pune, Maharashtra|  IT, Virtual Events|   Maharashtra|        Pune|\n",
      "|AIC Pinnacle Entr...|Secumatic Technol...|   Pune, Maharashtra|             Defense|   Maharashtra|        Pune|\n",
      "|AIC Pinnacle Entr...|Catalystgreen Pri...|   Pune, Maharashtra|          E-Mobility|   Maharashtra|        Pune|\n",
      "|AIC Pinnacle Entr...|Dynateq Consultin...|   Pune, Maharashtra|Industril Automation|   Maharashtra|        Pune|\n",
      "|           AIC@36Inc|               TECHB|              Bhilai|3d printer and cn...|          NULL|      Bhilai|\n",
      "|           AIC@36Inc|Acculegal Service...|              Raipur|Finance, Legal , ...|          NULL|      Raipur|\n",
      "|           AIC@36Inc|Bastar Se Bazar T...|        Uttar Bastar|       Agri-business|          NULL|Uttar Bastar|\n",
      "|           AIC@36Inc|          Coshal Art|              Raipur|          Handicraft|          NULL|      Raipur|\n",
      "|           AIC@36Inc|           Jivandeep|              Raipur|          Healthcare|          NULL|      Raipur|\n",
      "|           AIC@36Inc|  Binomial Analytics|              Raipur|IT and Technology...|          NULL|      Raipur|\n",
      "|           AIC@36Inc|              Rawfit|              Raipur|Heathcare & Wellness|          NULL|      Raipur|\n",
      "|           AIC@36Inc|           WedNicely|              Raipur|eInvitations & We...|          NULL|      Raipur|\n",
      "+--------------------+--------------------+--------------------+--------------------+--------------+------------+\n",
      "only showing top 20 rows\n",
      "\n"
     ]
    }
   ],
   "source": [
    "# 3. If Location of company column has a data DIAT,Pune then set state as Maharashtra and city as DIAT Pune.\n",
    "df = df.withColumn(\"state\", when(col('Location of company')==\"DIAT,Pune\",\"Maharashtra\").otherwise(col('state')))\n",
    "df = df.withColumn(\"city\", when(col('Location of company')==\"DIAT,Pune\",\"DIAT Pune\").otherwise(col('city')))\n",
    "df.show()"
   ]
  },
  {
   "cell_type": "code",
   "execution_count": 37,
   "id": "bf8ceb94-5f72-4ba4-9ab2-df6d660289f9",
   "metadata": {},
   "outputs": [
    {
     "name": "stdout",
     "output_type": "stream",
     "text": [
      "+--------------------+--------------------+--------------------+--------------------+--------------+------------+\n",
      "|   Incubation_Center|     Name_of_startup| Location of company|              Sector|         state|        city|\n",
      "+--------------------+--------------------+--------------------+--------------------+--------------+------------+\n",
      "|      ABES Ghaziabad|            Suryansh|           New Delhi|              EdTech|          NULL|   New Delhi|\n",
      "|AIC Banasthali Vi...|Thinkpods Educati...| Satara, Maharashtra|             Ed Tech|   Maharashtra|      Satara|\n",
      "|AIC Banasthali Vi...|Inventiway Soluti...| Mumbai, Maharashtra|             HR Tech|   Maharashtra|      Mumbai|\n",
      "|AIC Banasthali Vi...|C2M Internet Indi...|Lucknow, Uttar Pr...|         Retail Tech| Uttar Pradesh|     Lucknow|\n",
      "|AIC Pinnacle Entr...|            Wastinno|   Pune, Maharashtra|         agriculture|   Maharashtra|        Pune|\n",
      "|AIC Pinnacle Entr...|Diabetico - Rise ...|   Pune, Maharashtra|          Healthcare|   Maharashtra|        Pune|\n",
      "|AIC Pinnacle Entr...|  3DGuru Innovations|   Pune, Maharashtra|             EduTech|   Maharashtra|        Pune|\n",
      "|AIC Pinnacle Entr...|     Gupte Education|   Pune, Maharashtra|    Ed Tech, Defence|   Maharashtra|        Pune|\n",
      "|AIC Pinnacle Entr...|Eldew Digital Pvt...|   Pune, Maharashtra|  IT, Virtual Events|   Maharashtra|        Pune|\n",
      "|AIC Pinnacle Entr...|Secumatic Technol...|   Pune, Maharashtra|             Defense|   Maharashtra|        Pune|\n",
      "|AIC Pinnacle Entr...|Catalystgreen Pri...|   Pune, Maharashtra|          E-Mobility|   Maharashtra|        Pune|\n",
      "|AIC Pinnacle Entr...|Dynateq Consultin...|   Pune, Maharashtra|Industril Automation|   Maharashtra|        Pune|\n",
      "|           AIC@36Inc|               TECHB|              Bhilai|3d printer and cn...|          NULL|      Bhilai|\n",
      "|           AIC@36Inc|Acculegal Service...|              Raipur|Finance, Legal , ...|          NULL|      Raipur|\n",
      "|           AIC@36Inc|Bastar Se Bazar T...|        Uttar Bastar|       Agri-business|          NULL|Uttar Bastar|\n",
      "|           AIC@36Inc|          Coshal Art|              Raipur|          Handicraft|          NULL|      Raipur|\n",
      "|           AIC@36Inc|           Jivandeep|              Raipur|          Healthcare|          NULL|      Raipur|\n",
      "|           AIC@36Inc|  Binomial Analytics|              Raipur|IT and Technology...|          NULL|      Raipur|\n",
      "|           AIC@36Inc|              Rawfit|              Raipur|Heathcare & Wellness|          NULL|      Raipur|\n",
      "|           AIC@36Inc|           WedNicely|              Raipur|eInvitations & We...|          NULL|      Raipur|\n",
      "+--------------------+--------------------+--------------------+--------------------+--------------+------------+\n",
      "only showing top 20 rows\n",
      "\n"
     ]
    }
   ],
   "source": [
    "# 4. If Location of company column has a data Ulhasnagar then set state as Maharashtra and city as Ulhasnagar\n",
    "df = df.withColumn(\"state\", when(col('Location of company')==\"Ulhasnagar\",\"Maharashtra\").otherwise(col('state')))\n",
    "df = df.withColumn(\"city\", when(col('Location of company')==\"Ulhasnagar\",\"Ulhasnagar\").otherwise(col('city')))\n",
    "df.show()"
   ]
  },
  {
   "cell_type": "code",
   "execution_count": 40,
   "id": "5ab6ca7b-f9e5-46b2-93ba-ef902eefecab",
   "metadata": {},
   "outputs": [
    {
     "name": "stdout",
     "output_type": "stream",
     "text": [
      "+---------------+-----+\n",
      "|          state|count|\n",
      "+---------------+-----+\n",
      "|           NULL|   66|\n",
      "|      Karnataka|   35|\n",
      "|    Maharashtra|   32|\n",
      "|      Tamilnadu|   24|\n",
      "|  Uttar Pradesh|   24|\n",
      "|      Telangana|   12|\n",
      "|          Delhi|    9|\n",
      "|      Rajasthan|    7|\n",
      "|        Gujarat|    7|\n",
      "|     Tamil Nadu|    6|\n",
      "|        Haryana|    5|\n",
      "| Andhra Pradesh|    4|\n",
      "|    West Bengal|    2|\n",
      "|    Maharashtra|    2|\n",
      "|             HP|    1|\n",
      "| Andhra Pradesh|    1|\n",
      "|    IIT Roorkee|    1|\n",
      "|      Hyderabad|    1|\n",
      "|          BIHAR|    1|\n",
      "|         Punjab|    1|\n",
      "+---------------+-----+\n",
      "\n"
     ]
    }
   ],
   "source": [
    "# 5. Find which State has the max number of startups\n",
    "df_state_max = df.groupby('state').count().orderBy(desc('count')).show()"
   ]
  },
  {
   "cell_type": "code",
   "execution_count": 41,
   "id": "718d994b-4896-4b33-a0ea-8975e15196bb",
   "metadata": {},
   "outputs": [
    {
     "name": "stdout",
     "output_type": "stream",
     "text": [
      "+--------------------+--------------------+--------------------+--------------------+--------------+------------+\n",
      "|   Incubation_Center|     Name_of_startup| Location of company|              Sector|         state|        city|\n",
      "+--------------------+--------------------+--------------------+--------------------+--------------+------------+\n",
      "|      ABES Ghaziabad|            Suryansh|           New Delhi|              EdTech|          NULL|   New Delhi|\n",
      "|AIC Banasthali Vi...|Thinkpods Educati...| Satara, Maharashtra|             Ed Tech|   Maharashtra|      Satara|\n",
      "|AIC Banasthali Vi...|Inventiway Soluti...| Mumbai, Maharashtra|             HR Tech|   Maharashtra|      Mumbai|\n",
      "|AIC Banasthali Vi...|C2M Internet Indi...|Lucknow, Uttar Pr...|         Retail Tech| Uttar Pradesh|     Lucknow|\n",
      "|AIC Pinnacle Entr...|            Wastinno|   Pune, Maharashtra|         agriculture|   Maharashtra|        Pune|\n",
      "|AIC Pinnacle Entr...|Diabetico - Rise ...|   Pune, Maharashtra|          Healthcare|   Maharashtra|        Pune|\n",
      "|AIC Pinnacle Entr...|  3DGuru Innovations|   Pune, Maharashtra|             EduTech|   Maharashtra|        Pune|\n",
      "|AIC Pinnacle Entr...|     Gupte Education|   Pune, Maharashtra|    Ed Tech, Defence|   Maharashtra|        Pune|\n",
      "|AIC Pinnacle Entr...|Eldew Digital Pvt...|   Pune, Maharashtra|  IT, Virtual Events|   Maharashtra|        Pune|\n",
      "|AIC Pinnacle Entr...|Secumatic Technol...|   Pune, Maharashtra|             Defense|   Maharashtra|        Pune|\n",
      "|AIC Pinnacle Entr...|Catalystgreen Pri...|   Pune, Maharashtra|          E-Mobility|   Maharashtra|        Pune|\n",
      "|AIC Pinnacle Entr...|Dynateq Consultin...|   Pune, Maharashtra|Industril Automation|   Maharashtra|        Pune|\n",
      "|           AIC@36Inc|               TECHB|              Bhilai|3d printer and cn...|          NULL|      Bhilai|\n",
      "|           AIC@36Inc|Acculegal Service...|              Raipur|Finance, Legal , ...|          NULL|      Raipur|\n",
      "|           AIC@36Inc|Bastar Se Bazar T...|        Uttar Bastar|       Agri-business|          NULL|Uttar Bastar|\n",
      "|           AIC@36Inc|          Coshal Art|              Raipur|          Handicraft|          NULL|      Raipur|\n",
      "|           AIC@36Inc|           Jivandeep|              Raipur|          Healthcare|          NULL|      Raipur|\n",
      "|           AIC@36Inc|  Binomial Analytics|              Raipur|IT and Technology...|          NULL|      Raipur|\n",
      "|           AIC@36Inc|              Rawfit|              Raipur|Heathcare & Wellness|          NULL|      Raipur|\n",
      "|           AIC@36Inc|           WedNicely|              Raipur|eInvitations & We...|          NULL|      Raipur|\n",
      "+--------------------+--------------------+--------------------+--------------------+--------------+------------+\n",
      "only showing top 20 rows\n",
      "\n"
     ]
    }
   ],
   "source": [
    "df.show()"
   ]
  },
  {
   "cell_type": "code",
   "execution_count": 49,
   "id": "6dc145f8-6090-4892-a85b-2820f226d31d",
   "metadata": {},
   "outputs": [
    {
     "name": "stdout",
     "output_type": "stream",
     "text": [
      "+--------------------+--------------------+--------------------+--------------------+------------+-------+\n",
      "|   Incubation_Center|     Name_of_startup| Location of company|              Sector|       state|   city|\n",
      "+--------------------+--------------------+--------------------+--------------------+------------+-------+\n",
      "|AIC Banasthali Vi...|Thinkpods Educati...| Satara, Maharashtra|             Ed Tech| Maharashtra| Satara|\n",
      "|AIC Banasthali Vi...|Inventiway Soluti...| Mumbai, Maharashtra|             HR Tech| Maharashtra| Mumbai|\n",
      "|AIC Pinnacle Entr...|            Wastinno|   Pune, Maharashtra|         agriculture| Maharashtra|   Pune|\n",
      "|AIC Pinnacle Entr...|Diabetico - Rise ...|   Pune, Maharashtra|          Healthcare| Maharashtra|   Pune|\n",
      "|AIC Pinnacle Entr...|  3DGuru Innovations|   Pune, Maharashtra|             EduTech| Maharashtra|   Pune|\n",
      "|AIC Pinnacle Entr...|     Gupte Education|   Pune, Maharashtra|    Ed Tech, Defence| Maharashtra|   Pune|\n",
      "|AIC Pinnacle Entr...|Eldew Digital Pvt...|   Pune, Maharashtra|  IT, Virtual Events| Maharashtra|   Pune|\n",
      "|AIC Pinnacle Entr...|Secumatic Technol...|   Pune, Maharashtra|             Defense| Maharashtra|   Pune|\n",
      "|AIC Pinnacle Entr...|Catalystgreen Pri...|   Pune, Maharashtra|          E-Mobility| Maharashtra|   Pune|\n",
      "|AIC Pinnacle Entr...|Dynateq Consultin...|   Pune, Maharashtra|Industril Automation| Maharashtra|   Pune|\n",
      "|Bio-incubator at ...|    ARQ Solution LLP| Mumbai, Maharashtra|          Healthcare| Maharashtra| Mumbai|\n",
      "|    CIIE Initiatives|             Kidaura|Nashik , Maharashtra|          Healthcare| Maharashtra|Nashik |\n",
      "|    CIIE Initiatives|      Pacify Medical| Mumbai, Maharashtra|          Healthcare| Maharashtra| Mumbai|\n",
      "|    CIIE Initiatives|Godaam Innovation...|Nashik , Maharashtra|            Agritech| Maharashtra|Nashik |\n",
      "|     FITT, IIT Delhi|Ambrosius Tech Pv...| Satara, Maharashtra|              EdTech| Maharashtra| Satara|\n",
      "|     FITT, IIT Delhi|  Ominar Innovations|   Pune, Maharashtra|Digital Health he...| Maharashtra|   Pune|\n",
      "|Forge (Coimbatore...|Abhaya Informatio...| Mumbai, Maharashtra| Digital Health Tech| Maharashtra| Mumbai|\n",
      "|  IIT Mandi Catalyst|Datalytics Techno...| Nagpur, Maharashtra|Business Intelleg...| Maharashtra| Nagpur|\n",
      "|  IIT Mandi Catalyst|Farm Intelligent ...|   Pune, Maharashtra|Agri Tech, Robotics,| Maharashtra|   Pune|\n",
      "|Sandip Incubation...|Duende Ingenious LLP|Nashik , Maharashtra|   Rural Development| Maharashtra|Nashik |\n",
      "+--------------------+--------------------+--------------------+--------------------+------------+-------+\n",
      "only showing top 20 rows\n",
      "\n"
     ]
    }
   ],
   "source": [
    "# 6. Find all the startups from Maharashtra .\n",
    "df_mh = df.filter(col('state')==' Maharashtra')\n",
    "df_mh.show() "
   ]
  },
  {
   "cell_type": "code",
   "execution_count": 36,
   "id": "7cc00eb9-7474-4bd0-b60e-32e7b8529f3a",
   "metadata": {},
   "outputs": [
    {
     "name": "stdout",
     "output_type": "stream",
     "text": [
      "Total number of startups in Healthcare sector :  34\n"
     ]
    }
   ],
   "source": [
    "# 7. How many startups were formed in Healthcare sector\n",
    "df_health_startups = df.filter(col('Sector')==\"Healthcare\").count()\n",
    "print('Total number of startups in Healthcare sector : ',df_health_startups)"
   ]
  },
  {
   "cell_type": "code",
   "execution_count": 45,
   "id": "a14cd38f-a761-4078-8d06-c4666d4e5e67",
   "metadata": {},
   "outputs": [
    {
     "name": "stdout",
     "output_type": "stream",
     "text": [
      "+--------------------+--------------------+-------------------+--------------------+------------+----+\n",
      "|   Incubation_Center|     Name_of_startup|Location of company|              Sector|       state|city|\n",
      "+--------------------+--------------------+-------------------+--------------------+------------+----+\n",
      "|AIC Pinnacle Entr...|            Wastinno|  Pune, Maharashtra|         agriculture| Maharashtra|Pune|\n",
      "|AIC Pinnacle Entr...|Diabetico - Rise ...|  Pune, Maharashtra|          Healthcare| Maharashtra|Pune|\n",
      "|AIC Pinnacle Entr...|  3DGuru Innovations|  Pune, Maharashtra|             EduTech| Maharashtra|Pune|\n",
      "|AIC Pinnacle Entr...|     Gupte Education|  Pune, Maharashtra|    Ed Tech, Defence| Maharashtra|Pune|\n",
      "|AIC Pinnacle Entr...|Eldew Digital Pvt...|  Pune, Maharashtra|  IT, Virtual Events| Maharashtra|Pune|\n",
      "|AIC Pinnacle Entr...|Secumatic Technol...|  Pune, Maharashtra|             Defense| Maharashtra|Pune|\n",
      "|AIC Pinnacle Entr...|Catalystgreen Pri...|  Pune, Maharashtra|          E-Mobility| Maharashtra|Pune|\n",
      "|AIC Pinnacle Entr...|Dynateq Consultin...|  Pune, Maharashtra|Industril Automation| Maharashtra|Pune|\n",
      "|     FITT, IIT Delhi|  Ominar Innovations|  Pune, Maharashtra|Digital Health he...| Maharashtra|Pune|\n",
      "|  IIT Mandi Catalyst|Farm Intelligent ...|  Pune, Maharashtra|Agri Tech, Robotics,| Maharashtra|Pune|\n",
      "|Society for Innov...|Udayan Ecotech Pv...|  Pune, Maharashtra|                  EV| Maharashtra|Pune|\n",
      "|Society for Innov...|Clairvoyance Mind...|  Pune, Maharashtra|          Healthcare| Maharashtra|Pune|\n",
      "|              VITTBI|Fat Cat Robotics ...|  Pune, Maharashtra|                 IoT| Maharashtra|Pune|\n",
      "+--------------------+--------------------+-------------------+--------------------+------------+----+\n",
      "\n"
     ]
    }
   ],
   "source": [
    "# 8. Display all startups from Pune and Nashik\n",
    "startup_pune_nashik = df.filter((col('city')=='Pune') | (col('city')=='Nashik')).show()"
   ]
  },
  {
   "cell_type": "code",
   "execution_count": 48,
   "id": "fd4906b0-d854-47f7-bd49-054d4a1f53e0",
   "metadata": {},
   "outputs": [
    {
     "name": "stdout",
     "output_type": "stream",
     "text": [
      "+--------------------+--------------------+--------------------+--------------------+------------+-------+\n",
      "|   Incubation_Center|     Name_of_startup| Location of company|              Sector|       state|   city|\n",
      "+--------------------+--------------------+--------------------+--------------------+------------+-------+\n",
      "|AIC Banasthali Vi...|Thinkpods Educati...| Satara, Maharashtra|             Ed Tech| Maharashtra| Satara|\n",
      "|AIC Banasthali Vi...|Inventiway Soluti...| Mumbai, Maharashtra|             HR Tech| Maharashtra| Mumbai|\n",
      "|AIC Pinnacle Entr...|            Wastinno|   Pune, Maharashtra|         agriculture| Maharashtra|   Pune|\n",
      "|AIC Pinnacle Entr...|Diabetico - Rise ...|   Pune, Maharashtra|          Healthcare| Maharashtra|   Pune|\n",
      "|AIC Pinnacle Entr...|  3DGuru Innovations|   Pune, Maharashtra|             EduTech| Maharashtra|   Pune|\n",
      "|AIC Pinnacle Entr...|     Gupte Education|   Pune, Maharashtra|    Ed Tech, Defence| Maharashtra|   Pune|\n",
      "|AIC Pinnacle Entr...|Eldew Digital Pvt...|   Pune, Maharashtra|  IT, Virtual Events| Maharashtra|   Pune|\n",
      "|AIC Pinnacle Entr...|Secumatic Technol...|   Pune, Maharashtra|             Defense| Maharashtra|   Pune|\n",
      "|AIC Pinnacle Entr...|Catalystgreen Pri...|   Pune, Maharashtra|          E-Mobility| Maharashtra|   Pune|\n",
      "|AIC Pinnacle Entr...|Dynateq Consultin...|   Pune, Maharashtra|Industril Automation| Maharashtra|   Pune|\n",
      "|Bio-incubator at ...|    ARQ Solution LLP| Mumbai, Maharashtra|          Healthcare| Maharashtra| Mumbai|\n",
      "|    CIIE Initiatives|             Kidaura|Nashik , Maharashtra|          Healthcare| Maharashtra|Nashik |\n",
      "|    CIIE Initiatives|      Pacify Medical| Mumbai, Maharashtra|          Healthcare| Maharashtra| Mumbai|\n",
      "|    CIIE Initiatives|Godaam Innovation...|Nashik , Maharashtra|            Agritech| Maharashtra|Nashik |\n",
      "|     FITT, IIT Delhi|Ambrosius Tech Pv...| Satara, Maharashtra|              EdTech| Maharashtra| Satara|\n",
      "|     FITT, IIT Delhi|  Ominar Innovations|   Pune, Maharashtra|Digital Health he...| Maharashtra|   Pune|\n",
      "|Forge (Coimbatore...|Abhaya Informatio...| Mumbai, Maharashtra| Digital Health Tech| Maharashtra| Mumbai|\n",
      "|  IIT Mandi Catalyst|Datalytics Techno...| Nagpur, Maharashtra|Business Intelleg...| Maharashtra| Nagpur|\n",
      "|  IIT Mandi Catalyst|Farm Intelligent ...|   Pune, Maharashtra|Agri Tech, Robotics,| Maharashtra|   Pune|\n",
      "|Sandip Incubation...|Duende Ingenious LLP|Nashik , Maharashtra|   Rural Development| Maharashtra|Nashik |\n",
      "+--------------------+--------------------+--------------------+--------------------+------------+-------+\n",
      "only showing top 20 rows\n",
      "\n"
     ]
    }
   ],
   "source": [
    "df.filter(col('state')==' Maharashtra').show()"
   ]
  },
  {
   "cell_type": "code",
   "execution_count": 50,
   "id": "e4982ee9-ef5a-4f61-82cb-a2ed906ba17f",
   "metadata": {},
   "outputs": [
    {
     "name": "stdout",
     "output_type": "stream",
     "text": [
      "+-------+-----+\n",
      "|   city|count|\n",
      "+-------+-----+\n",
      "|   Pune|   13|\n",
      "| Mumbai|    9|\n",
      "|Nashik |    5|\n",
      "| Satara|    2|\n",
      "| Nagpur|    2|\n",
      "|  Thane|    1|\n",
      "+-------+-----+\n",
      "\n"
     ]
    }
   ],
   "source": [
    "# 9. Sort the cities in Maharashtra in descending order of the count of startups\n",
    "df_mh1= df.filter(col('state')==' Maharashtra').groupBy('city').count().orderBy(desc('count')).show()"
   ]
  },
  {
   "cell_type": "code",
   "execution_count": 58,
   "id": "6dd39b64-7b81-4931-8904-414d7ff3ee07",
   "metadata": {},
   "outputs": [
    {
     "name": "stdout",
     "output_type": "stream",
     "text": [
      "75\n"
     ]
    }
   ],
   "source": [
    "# 10. How many startups are in South India. That is states Karnataka ,Tamilnadu , Telangana , Andhra Pradesh\n",
    "south_list=[' Karnataka' ,' Tamilnadu' , ' Telangana' , ' Andhra Pradesh']\n",
    "df_south = df.filter(col('state').isin(south_list)).count()\n",
    "print(df_south)"
   ]
  },
  {
   "cell_type": "code",
   "execution_count": 60,
   "id": "7a71b68e-d54c-4e07-8a33-2ededbd25e1a",
   "metadata": {},
   "outputs": [
    {
     "name": "stdout",
     "output_type": "stream",
     "text": [
      "7\n"
     ]
    }
   ],
   "source": [
    "# 11. How many startups are in Gujarat\n",
    "df_gujju = df.filter(col('state')==' Gujarat').count()\n",
    "print(df_gujju)"
   ]
  },
  {
   "cell_type": "code",
   "execution_count": 64,
   "id": "b7b56e65-1c36-46af-a2f1-add23c6c9440",
   "metadata": {},
   "outputs": [
    {
     "name": "stdout",
     "output_type": "stream",
     "text": [
      "68\n"
     ]
    }
   ],
   "source": [
    "# 12. How many startups are in North India.That is states other than Karnataka , Tamilnadu , Telangana , Andhra Pradesh and Maharashtra\n",
    "df_north = df.filter(~col('state').isin(south_list + [' Maharashtra'])).count()\n",
    "print(df_north)"
   ]
  },
  {
   "cell_type": "code",
   "execution_count": 66,
   "id": "0b5f16f2-a492-40bd-82cf-bee98500e0db",
   "metadata": {},
   "outputs": [
    {
     "name": "stdout",
     "output_type": "stream",
     "text": [
      "The percentage of startup initiative from South India and Maharashtra :  44.398340248962654\n"
     ]
    }
   ],
   "source": [
    "# 13. What is the percentage of startup initiative from South India and Maharashtra\n",
    "total_startups = df.count()\n",
    "df_sm = df.filter(col('state').isin(south_list + [' Maharashtra'])).count()\n",
    "df_sm_pct = (df_sm/total_startups) * 100\n",
    "print('The percentage of startup initiative from South India and Maharashtra : ',df_sm_pct)"
   ]
  },
  {
   "cell_type": "code",
   "execution_count": 68,
   "id": "328ae04f-8d42-43fa-a091-9f3c3295f787",
   "metadata": {},
   "outputs": [
    {
     "name": "stdout",
     "output_type": "stream",
     "text": [
      "13.278008298755188\n"
     ]
    }
   ],
   "source": [
    "# 14. What is the percentage contribution of startup from Maharashtra\n",
    "df_mhc  = df.filter(col('state')==' Maharashtra').count()\n",
    "df_mh_pct = (df_mhc/total_startups) * 100\n",
    "print(df_mh_pct)"
   ]
  },
  {
   "cell_type": "code",
   "execution_count": 69,
   "id": "c0e79de4-4fd1-47dc-9a2b-0b5bffe73549",
   "metadata": {},
   "outputs": [
    {
     "name": "stdout",
     "output_type": "stream",
     "text": [
      "2.904564315352697\n"
     ]
    }
   ],
   "source": [
    "# 15. What is the percentage contribution of startup from Gujarat\n",
    "df_mhc  = df.filter(col('state')==' Gujarat').count()\n",
    "df_mh_pct = (df_mhc/total_startups) * 100\n",
    "print(df_mh_pct)"
   ]
  },
  {
   "cell_type": "code",
   "execution_count": 70,
   "id": "b6a0c191-c822-4b00-8dc7-b525238f0922",
   "metadata": {},
   "outputs": [
    {
     "name": "stdout",
     "output_type": "stream",
     "text": [
      "+--------------------+--------------------+--------------------+--------------------+--------------+------------+\n",
      "|   Incubation_Center|     Name_of_startup| Location of company|              Sector|         state|        city|\n",
      "+--------------------+--------------------+--------------------+--------------------+--------------+------------+\n",
      "|      ABES Ghaziabad|            Suryansh|           New Delhi|              EdTech|       Unknown|   New Delhi|\n",
      "|AIC Banasthali Vi...|Thinkpods Educati...| Satara, Maharashtra|             Ed Tech|   Maharashtra|      Satara|\n",
      "|AIC Banasthali Vi...|Inventiway Soluti...| Mumbai, Maharashtra|             HR Tech|   Maharashtra|      Mumbai|\n",
      "|AIC Banasthali Vi...|C2M Internet Indi...|Lucknow, Uttar Pr...|         Retail Tech| Uttar Pradesh|     Lucknow|\n",
      "|AIC Pinnacle Entr...|            Wastinno|   Pune, Maharashtra|         agriculture|   Maharashtra|        Pune|\n",
      "|AIC Pinnacle Entr...|Diabetico - Rise ...|   Pune, Maharashtra|          Healthcare|   Maharashtra|        Pune|\n",
      "|AIC Pinnacle Entr...|  3DGuru Innovations|   Pune, Maharashtra|             EduTech|   Maharashtra|        Pune|\n",
      "|AIC Pinnacle Entr...|     Gupte Education|   Pune, Maharashtra|    Ed Tech, Defence|   Maharashtra|        Pune|\n",
      "|AIC Pinnacle Entr...|Eldew Digital Pvt...|   Pune, Maharashtra|  IT, Virtual Events|   Maharashtra|        Pune|\n",
      "|AIC Pinnacle Entr...|Secumatic Technol...|   Pune, Maharashtra|             Defense|   Maharashtra|        Pune|\n",
      "|AIC Pinnacle Entr...|Catalystgreen Pri...|   Pune, Maharashtra|          E-Mobility|   Maharashtra|        Pune|\n",
      "|AIC Pinnacle Entr...|Dynateq Consultin...|   Pune, Maharashtra|Industril Automation|   Maharashtra|        Pune|\n",
      "|           AIC@36Inc|               TECHB|              Bhilai|3d printer and cn...|       Unknown|      Bhilai|\n",
      "|           AIC@36Inc|Acculegal Service...|              Raipur|Finance, Legal , ...|       Unknown|      Raipur|\n",
      "|           AIC@36Inc|Bastar Se Bazar T...|        Uttar Bastar|       Agri-business|       Unknown|Uttar Bastar|\n",
      "|           AIC@36Inc|          Coshal Art|              Raipur|          Handicraft|       Unknown|      Raipur|\n",
      "|           AIC@36Inc|           Jivandeep|              Raipur|          Healthcare|       Unknown|      Raipur|\n",
      "|           AIC@36Inc|  Binomial Analytics|              Raipur|IT and Technology...|       Unknown|      Raipur|\n",
      "|           AIC@36Inc|              Rawfit|              Raipur|Heathcare & Wellness|       Unknown|      Raipur|\n",
      "|           AIC@36Inc|           WedNicely|              Raipur|eInvitations & We...|       Unknown|      Raipur|\n",
      "+--------------------+--------------------+--------------------+--------------------+--------------+------------+\n",
      "only showing top 20 rows\n",
      "\n"
     ]
    }
   ],
   "source": [
    "# 16. Replace state with null values to Unknown\n",
    "df = df.withColumn(\"state\", when(col('state').isNull(), \"Unknown\").otherwise(col('state'))).show()"
   ]
  },
  {
   "cell_type": "code",
   "execution_count": null,
   "id": "cc6c6238-8e92-4f45-8dda-419c53914ecf",
   "metadata": {},
   "outputs": [],
   "source": [
    "# 17. Store the DataFrame with following Schema into a Hive table\n",
    "# StartUps_Spark with partitioning done on columns state and\n",
    "# city\n",
    "# root\n",
    "# |-- Incubation_Center: string (nullable = false)\n",
    "# |-- Name_of_startup: string (nullable = false)\n",
    "# |-- Location_of_company: string (nullable = false)\n",
    "# |-- Sector: string (nullable = false)\n",
    "# |-- city: string (nullable = false)\n",
    "# |-- state: string (nullable = false)\n",
    "# Hint - Use partitionBy and saveAsTable API from pyspark\n",
    "df.write.partitionBy('state','city').saveAsTable('startup_table')"
   ]
  }
 ],
 "metadata": {
  "kernelspec": {
   "display_name": "Python 3 (ipykernel)",
   "language": "python",
   "name": "python3"
  },
  "language_info": {
   "codemirror_mode": {
    "name": "ipython",
    "version": 3
   },
   "file_extension": ".py",
   "mimetype": "text/x-python",
   "name": "python",
   "nbconvert_exporter": "python",
   "pygments_lexer": "ipython3",
   "version": "3.8.10"
  }
 },
 "nbformat": 4,
 "nbformat_minor": 5
}
